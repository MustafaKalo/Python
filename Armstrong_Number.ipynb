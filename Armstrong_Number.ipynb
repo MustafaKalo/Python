{
 "metadata": {
  "language_info": {
   "codemirror_mode": {
    "name": "ipython",
    "version": 3
   },
   "file_extension": ".py",
   "mimetype": "text/x-python",
   "name": "python",
   "nbconvert_exporter": "python",
   "pygments_lexer": "ipython3",
   "version": "3.9.5"
  },
  "orig_nbformat": 2,
  "kernelspec": {
   "name": "python395jvsc74a57bd08b03d4cd05d71d535371b426da57de743181e37d8974a9636efe6e78873daaed",
   "display_name": "Python 3.9.5 64-bit"
  },
  "metadata": {
   "interpreter": {
    "hash": "8b03d4cd05d71d535371b426da57de743181e37d8974a9636efe6e78873daaed"
   }
  }
 },
 "nbformat": 4,
 "nbformat_minor": 2,
 "cells": [
  {
   "source": [
    "\n",
    "Task:\n",
    "\n",
    "Find out if a given number is an \"Armstrong Number\".\n",
    "\n",
    "An n-digit number that is the sum of the nth powers of its digits is called an n-Armstrong number. Examples :\n",
    "\n",
    "371 = 33 + 73 + 13;\n",
    "\n",
    "9474 = 94 + 44 + 74 + 44;\n",
    "\n",
    "93084 = 95 + 35 + 05 + 85 + 45.\n",
    "\n",
    "Write a Python program that;\n",
    "\n",
    "takes a positive integer number from the user,\n",
    "\n",
    "checks the entered number if it is Armstrong,\n",
    "\n",
    "consider the negative, float and any entries other than numeric values then display a warning message to the user\n",
    "\n"
   ],
   "cell_type": "markdown",
   "metadata": {}
  },
  {
   "source": [
    "Please enter a positive integer number 31"
   ],
   "cell_type": "markdown",
   "metadata": {}
  },
  {
   "cell_type": "code",
   "execution_count": 6,
   "metadata": {},
   "outputs": [
    {
     "output_type": "stream",
     "name": "stdout",
     "text": [
      "This number is Armstrong Number\n"
     ]
    }
   ],
   "source": [
    "\n",
    "while True:\n",
    "  number=input(\"Please enter a positive integer number. \")\n",
    "  if number.isdigit():\n",
    "    break\n",
    "  else:\n",
    "    continue\n",
    "summ=0\n",
    "for i in number:\n",
    "  summ+=pow(int(i),len(number))\n",
    "if summ==int(number):\n",
    "  print(\"This number is Armstrong Number\")\n",
    "else:\n",
    "  print(\"This number is not Armstrong Number\")"
   ]
  }
 ]
}